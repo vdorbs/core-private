{
 "cells": [
  {
   "cell_type": "markdown",
   "metadata": {},
   "source": [
    "Creating OpenAI gym Envs from SystemDynamics objects."
   ]
  },
  {
   "cell_type": "code",
   "execution_count": 1,
   "metadata": {},
   "outputs": [],
   "source": [
    "from gym import Env\n",
    "from gym.envs.classic_control.rendering import Viewer\n",
    "from gym.spaces import Box\n",
    "from numpy import Inf\n",
    "\n",
    "class SystemDynamicsEnv(Env):\n",
    "    metadata = {'render.modes': ['human']}\n",
    "    \n",
    "    def __init__(self, system_dynamics, init_state, times, animator=None, atol=1e-6, rtol=1e-6):\n",
    "        self.system_dynamics = system_dynamics\n",
    "        self.times = times\n",
    "        self.animator = animator\n",
    "        self.atol = atol\n",
    "        self.rtol = rtol\n",
    "        \n",
    "        self.observation_space = Box(-Inf, Inf, (system_dynamics.n,))\n",
    "        self.action_space = Box(-Inf, Inf, (system_dynamics.m,))\n",
    "        \n",
    "        self.state = None\n",
    "        self.time_step = None\n",
    "        \n",
    "        self.viewer = None\n",
    "        \n",
    "    def step(self, action):\n",
    "        assert(self.action_space.contains(action))\n",
    "        \n",
    "        state = self.state\n",
    "        initial_time = self.times[self.time_step]\n",
    "        final_time = self.times[self.time_step + 1]\n",
    "        self.state = self.system_dynamics.step(state, action, initial_time, final_time)\n",
    "        \n",
    "        assert self.observation_space.contains(self.state)\n",
    "        \n",
    "        self.time_step += 1\n",
    "        return self.state, 0, False, {}\n",
    "    \n",
    "    def reset(self):\n",
    "        self.state = init_state\n",
    "        self.time_step = 0\n",
    "        return self.state\n",
    "        \n",
    "    def render(self, mode='human'):\n",
    "        if self.viewer is None:\n",
    "            self.viewer = Viewer(500, 500)\n",
    "            self.animator.set_viewer(self.viewer)\n",
    "        self.animator.render(self.state)\n",
    "        self.viewer.render()\n",
    "    \n",
    "    def close(self):\n",
    "        if self.viewer:\n",
    "            self.viewer.close()\n",
    "        self.viewer = None"
   ]
  },
  {
   "cell_type": "markdown",
   "metadata": {},
   "source": [
    "Animator class specification."
   ]
  },
  {
   "cell_type": "code",
   "execution_count": 2,
   "metadata": {},
   "outputs": [],
   "source": [
    "class Animator:\n",
    "    def set_viewer(self, viewer):\n",
    "        raise NotImplementedError\n",
    "        \n",
    "    def render(self, state):\n",
    "        raise NotImplementedError"
   ]
  },
  {
   "cell_type": "markdown",
   "metadata": {},
   "source": [
    "Testing on inverted pendulum system."
   ]
  },
  {
   "cell_type": "code",
   "execution_count": 3,
   "metadata": {},
   "outputs": [],
   "source": [
    "from gym.envs.classic_control.rendering import FilledPolygon, Line, Transform\n",
    "\n",
    "class InvertedPendulumAnimator(Animator):\n",
    "    def __init__(self, inverted_pendulum, pixels_per_meter):\n",
    "        self.inverted_pendulum = inverted_pendulum\n",
    "        self.ppm = pixels_per_meter\n",
    "        self.viewer = None\n",
    "        self.xform = None\n",
    "        \n",
    "    def set_viewer(self, viewer):\n",
    "        _, length, _ = self.inverted_pendulum.params\n",
    "        length *= self.ppm\n",
    "        width = length / 10\n",
    "        \n",
    "        self.viewer = viewer\n",
    "        \n",
    "        link = FilledPolygon([(0, 0), (0, length), (width, length), (width, 0)])\n",
    "        self.xform = Transform()\n",
    "        self.xform.set_translation((self.viewer.width - width) // 2, self.viewer.height // 2)\n",
    "        link.add_attr(self.xform)\n",
    "        self.viewer.add_geom(link)\n",
    "        \n",
    "        ground = Line((0, self.viewer.height // 2), (self.viewer.width, self.viewer.height // 2))\n",
    "        self.viewer.add_geom(ground)\n",
    "        \n",
    "    def render(self, state):\n",
    "        theta, _ = state\n",
    "        self.xform.set_rotation(-theta)"
   ]
  },
  {
   "cell_type": "code",
   "execution_count": 4,
   "metadata": {},
   "outputs": [],
   "source": [
    "from numpy import identity\n",
    "\n",
    "from core.controllers import FBLinController, LQRController\n",
    "from core.systems import InvertedPendulum\n",
    "\n",
    "inverted_pendulum = InvertedPendulum(m=0.25, l=0.5)\n",
    "\n",
    "Q = 10 * identity(2)\n",
    "R = identity(1)\n",
    "lqr = LQRController.build(inverted_pendulum, Q, R)\n",
    "fb_lin = FBLinController(inverted_pendulum, lqr)"
   ]
  },
  {
   "cell_type": "code",
   "execution_count": 5,
   "metadata": {},
   "outputs": [],
   "source": [
    "from numpy import array, linspace\n",
    "\n",
    "init_state = array([1, 0])\n",
    "times = linspace(0, 10, 1000 + 1)\n",
    "animator = InvertedPendulumAnimator(inverted_pendulum, 100)\n",
    "env = SystemDynamicsEnv(inverted_pendulum, init_state, times, animator)"
   ]
  },
  {
   "cell_type": "code",
   "execution_count": 6,
   "metadata": {},
   "outputs": [],
   "source": [
    "from numpy import zeros\n",
    "\n",
    "states = zeros((len(times), inverted_pendulum.n))\n",
    "states[0] = env.reset()\n",
    "actions = zeros((len(times) - 1, inverted_pendulum.m))\n",
    "\n",
    "for step, time in enumerate(times[:-1]):\n",
    "    env.render()\n",
    "    state = states[step]\n",
    "    action = fb_lin.eval(state, time)\n",
    "    states[step + 1], _, _, _ = env.step(action)\n",
    "    actions[step] = action\n",
    "env.render()\n",
    "env.close()"
   ]
  },
  {
   "cell_type": "code",
   "execution_count": 7,
   "metadata": {},
   "outputs": [],
   "source": [
    "from matplotlib.pyplot import subplots, show"
   ]
  },
  {
   "cell_type": "code",
   "execution_count": 8,
   "metadata": {},
   "outputs": [
    {
     "data": {
      "image/png": "[encoded data removed]",
      "text/plain": [
       "<Figure size 576x288 with 2 Axes>"
      ]
     },
     "metadata": {
      "needs_background": "light"
     },
     "output_type": "display_data"
    }
   ],
   "source": [
    "data = [(times, states[:, 0]), (times[:-1], actions)]\n",
    "ylabels = ['$\\\\theta$ (rad)', '$\\\\tau$ (N $\\\\cdot$ m)']\n",
    "fig, axs = subplots(1, 2, figsize=(8, 4), constrained_layout=True)\n",
    "\n",
    "fig.suptitle('Inverted Pendulum', fontsize=16)\n",
    "for (xdata, ydata), ylabel, ax in zip(data, ylabels, axs):\n",
    "    ax.plot(xdata, ydata, linewidth=3)\n",
    "    ax.grid()\n",
    "    ax.set_xlabel('$t$ (sec)', fontsize=16)\n",
    "    ax.set_ylabel(ylabel, fontsize=16)\n",
    "       \n",
    "show()"
   ]
  }
 ],
 "metadata": {
  "kernelspec": {
   "display_name": "Python 3",
   "language": "python",
   "name": "python3"
  },
  "language_info": {
   "codemirror_mode": {
    "name": "ipython",
    "version": 3
   },
   "file_extension": ".py",
   "mimetype": "text/x-python",
   "name": "python",
   "nbconvert_exporter": "python",
   "pygments_lexer": "ipython3",
   "version": "3.7.3"
  }
 },
 "nbformat": 4,
 "nbformat_minor": 2
}
